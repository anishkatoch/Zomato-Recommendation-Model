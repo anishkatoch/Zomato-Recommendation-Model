{
 "cells": [
  {
   "cell_type": "code",
   "execution_count": 19,
   "id": "c9d60664",
   "metadata": {},
   "outputs": [],
   "source": [
    "import pandas as pd\n",
    "import numpy as np\n",
    "import pickle\n",
    "from sklearn.linear_model import LogisticRegression\n",
    "from sklearn.ensemble import RandomForestClassifier\n",
    "from sklearn.tree import DecisionTreeClassifier\n",
    "from sklearn.model_selection import train_test_split\n",
    "import warnings\n",
    "from sklearn.preprocessing import LabelEncoder\n",
    "from sklearn import metrics\n",
    "from sklearn.preprocessing import MinMaxScaler\n",
    "\n",
    "df = pd.read_excel(\"C:/Users/Yash/Downloads/Zomato_Data.xlsx\")"
   ]
  },
  {
   "cell_type": "code",
   "execution_count": 20,
   "id": "2f873015",
   "metadata": {},
   "outputs": [
    {
     "data": {
      "text/html": [
       "<div>\n",
       "<style scoped>\n",
       "    .dataframe tbody tr th:only-of-type {\n",
       "        vertical-align: middle;\n",
       "    }\n",
       "\n",
       "    .dataframe tbody tr th {\n",
       "        vertical-align: top;\n",
       "    }\n",
       "\n",
       "    .dataframe thead th {\n",
       "        text-align: right;\n",
       "    }\n",
       "</style>\n",
       "<table border=\"1\" class=\"dataframe\">\n",
       "  <thead>\n",
       "    <tr style=\"text-align: right;\">\n",
       "      <th></th>\n",
       "      <th>Restaurant_Name</th>\n",
       "      <th>Index</th>\n",
       "      <th>Rating</th>\n",
       "      <th>Price_For_One</th>\n",
       "      <th>Cuisine</th>\n",
       "      <th>Location</th>\n",
       "      <th>Delivery_Review_Number</th>\n",
       "      <th>Link</th>\n",
       "    </tr>\n",
       "  </thead>\n",
       "  <tbody>\n",
       "    <tr>\n",
       "      <th>725</th>\n",
       "      <td>Food King</td>\n",
       "      <td>726</td>\n",
       "      <td>4.1</td>\n",
       "      <td>100</td>\n",
       "      <td>Chinese</td>\n",
       "      <td>Richmond Road</td>\n",
       "      <td>53</td>\n",
       "      <td>https://www.zomato.com//bangalore/hyderabad-bi...</td>\n",
       "    </tr>\n",
       "    <tr>\n",
       "      <th>726</th>\n",
       "      <td>Belgian Waffle Factory</td>\n",
       "      <td>727</td>\n",
       "      <td>4.0</td>\n",
       "      <td>100</td>\n",
       "      <td>Desserts</td>\n",
       "      <td>Kalyan Nagar</td>\n",
       "      <td>955</td>\n",
       "      <td>https://www.zomato.com//bangalore/call-me-chow...</td>\n",
       "    </tr>\n",
       "    <tr>\n",
       "      <th>727</th>\n",
       "      <td>Adiga's</td>\n",
       "      <td>728</td>\n",
       "      <td>4.2</td>\n",
       "      <td>100</td>\n",
       "      <td>South Indian</td>\n",
       "      <td>Malleshwaram</td>\n",
       "      <td>321</td>\n",
       "      <td>https://www.zomato.com//bangalore/third-wave-c...</td>\n",
       "    </tr>\n",
       "    <tr>\n",
       "      <th>728</th>\n",
       "      <td>Rajanna Military Hotel</td>\n",
       "      <td>729</td>\n",
       "      <td>3.8</td>\n",
       "      <td>100</td>\n",
       "      <td>Andhra</td>\n",
       "      <td>Ulsoor</td>\n",
       "      <td>571</td>\n",
       "      <td>https://www.zomato.com//bangalore/namaste-1-ul...</td>\n",
       "    </tr>\n",
       "    <tr>\n",
       "      <th>729</th>\n",
       "      <td>Gokul Veg</td>\n",
       "      <td>730</td>\n",
       "      <td>3.4</td>\n",
       "      <td>100</td>\n",
       "      <td>North Indian</td>\n",
       "      <td>Jayanagar</td>\n",
       "      <td>701</td>\n",
       "      <td>https://www.zomato.com//bangalore/savoury-rest...</td>\n",
       "    </tr>\n",
       "  </tbody>\n",
       "</table>\n",
       "</div>"
      ],
      "text/plain": [
       "            Restaurant_Name  Index  Rating  Price_For_One       Cuisine  \\\n",
       "725               Food King    726     4.1            100       Chinese   \n",
       "726  Belgian Waffle Factory    727     4.0            100      Desserts   \n",
       "727                 Adiga's    728     4.2            100  South Indian   \n",
       "728  Rajanna Military Hotel    729     3.8            100        Andhra   \n",
       "729               Gokul Veg    730     3.4            100  North Indian   \n",
       "\n",
       "          Location  Delivery_Review_Number  \\\n",
       "725  Richmond Road                      53   \n",
       "726   Kalyan Nagar                     955   \n",
       "727   Malleshwaram                     321   \n",
       "728         Ulsoor                     571   \n",
       "729      Jayanagar                     701   \n",
       "\n",
       "                                                  Link  \n",
       "725  https://www.zomato.com//bangalore/hyderabad-bi...  \n",
       "726  https://www.zomato.com//bangalore/call-me-chow...  \n",
       "727  https://www.zomato.com//bangalore/third-wave-c...  \n",
       "728  https://www.zomato.com//bangalore/namaste-1-ul...  \n",
       "729  https://www.zomato.com//bangalore/savoury-rest...  "
      ]
     },
     "execution_count": 20,
     "metadata": {},
     "output_type": "execute_result"
    }
   ],
   "source": [
    "df.tail()"
   ]
  },
  {
   "cell_type": "code",
   "execution_count": 13,
   "id": "80d0b75d",
   "metadata": {},
   "outputs": [],
   "source": [
    "Cuisine = \"Desserts\"\n",
    "Preferred_Location = \"Residency Road\"\n",
    "Preferred_Price_For_1 = 100"
   ]
  },
  {
   "cell_type": "code",
   "execution_count": 18,
   "id": "ac16041d",
   "metadata": {},
   "outputs": [
    {
     "data": {
      "text/plain": [
       "'Italian'"
      ]
     },
     "execution_count": 18,
     "metadata": {},
     "output_type": "execute_result"
    }
   ],
   "source": [
    "a = df[(df['Location'] == Preferred_Location)]\n",
    "Cuis = a[a['Rating'] == a['Rating'].max()][\"Cuisine\"].to_string().split()[1:]\n",
    "' '.join(Cuis)"
   ]
  },
  {
   "cell_type": "code",
   "execution_count": 21,
   "id": "fb7e19df",
   "metadata": {},
   "outputs": [],
   "source": [
    "z = pd.DataFrame({\"Index\" : [0], \"Cuisine\" : Cuisine, \"Location\" : Location,\"Price_For_One\":Preferred_Price_For_1})\n",
    "df = pd.concat([df,z])"
   ]
  },
  {
   "cell_type": "code",
   "execution_count": 22,
   "id": "c0e139d0",
   "metadata": {},
   "outputs": [],
   "source": [
    "lst = list(df[\"Location\"].unique())"
   ]
  },
  {
   "cell_type": "code",
   "execution_count": 24,
   "id": "3a541e25",
   "metadata": {},
   "outputs": [],
   "source": [
    "dict1 = {}\n",
    "for i in range(len(lst)):\n",
    "    dict1[lst[i]] = i  "
   ]
  },
  {
   "cell_type": "code",
   "execution_count": 25,
   "id": "eedba6e0",
   "metadata": {},
   "outputs": [
    {
     "data": {
      "text/plain": [
       "{'St. Marks Road': 0,\n",
       " 'Frazer Town': 1,\n",
       " 'Shivajinagar': 2,\n",
       " 'City Market': 3,\n",
       " 'Koramangala': 4,\n",
       " 'Church Street': 5,\n",
       " 'Lavelle Road': 6,\n",
       " 'Shanti Nagar': 7,\n",
       " 'Brigade Road': 8,\n",
       " 'MG Road': 9,\n",
       " 'Commercial Street': 10,\n",
       " 'Residency Road': 11,\n",
       " 'Basavanagudi': 12,\n",
       " 'Mantri Square': 13,\n",
       " 'Richmond Road': 14,\n",
       " 'Malleshwaram': 15,\n",
       " 'Indiranagar': 16,\n",
       " 'Ulsoor': 17,\n",
       " 'Garuda Mall': 18,\n",
       " 'Jayanagar': 19,\n",
       " 'Richmond Town': 20,\n",
       " 'UB City': 21,\n",
       " 'Vasanth Nagar': 22,\n",
       " 'Wilson Garden': 23,\n",
       " 'Cunningham Road': 24,\n",
       " 'Seshadripuram': 25,\n",
       " 'BTM': 26,\n",
       " 'Rajajinagar': 27,\n",
       " 'Domlur': 28,\n",
       " 'Majestic': 29,\n",
       " 'Sadashiv Nagar': 30,\n",
       " 'Old Madras Road': 31,\n",
       " 'Hosur Road': 32,\n",
       " 'Lido Mall': 33,\n",
       " 'Ejipura': 34,\n",
       " 'Langford Town': 35,\n",
       " 'Forum Rex Walk': 36,\n",
       " 'Building 105': 37,\n",
       " 'RT Nagar': 38,\n",
       " '1 Sobha': 39,\n",
       " 'Jatti Building': 40,\n",
       " 'Basaveshwara Nagar': 41,\n",
       " 'Nexus': 42,\n",
       " 'Race Course Road': 43,\n",
       " 'Old Airport Road': 44,\n",
       " 'Infantry Road': 45,\n",
       " 'Prestige Trade Tower': 46,\n",
       " 'Thippasandra': 47,\n",
       " 'Banashankari': 48,\n",
       " 'ITC Gardenia': 49,\n",
       " 'Jeevan Bhima Nagar': 50,\n",
       " 'Hotel Southern Star': 51,\n",
       " 'Global Village': 52,\n",
       " 'Nagawara': 53,\n",
       " 'BluPetal Hotel': 54,\n",
       " 'Mysore Road': 55,\n",
       " 'Magadi Road': 56,\n",
       " 'CV Raman Nagar': 57,\n",
       " 'Vijay Nagar': 58,\n",
       " 'Sigma Mall': 59,\n",
       " 'Kammanahalli': 60,\n",
       " 'Kalyan Nagar': 61}"
      ]
     },
     "execution_count": 25,
     "metadata": {},
     "output_type": "execute_result"
    }
   ],
   "source": [
    "dict1"
   ]
  },
  {
   "cell_type": "code",
   "execution_count": 23,
   "id": "70890650",
   "metadata": {},
   "outputs": [
    {
     "data": {
      "text/plain": [
       "['St. Marks Road',\n",
       " 'Frazer Town',\n",
       " 'Shivajinagar',\n",
       " 'City Market',\n",
       " 'Koramangala',\n",
       " 'Church Street',\n",
       " 'Lavelle Road',\n",
       " 'Shanti Nagar',\n",
       " 'Brigade Road',\n",
       " 'MG Road',\n",
       " 'Commercial Street',\n",
       " 'Residency Road',\n",
       " 'Basavanagudi',\n",
       " 'Mantri Square',\n",
       " 'Richmond Road',\n",
       " 'Malleshwaram',\n",
       " 'Indiranagar',\n",
       " 'Ulsoor',\n",
       " 'Garuda Mall',\n",
       " 'Jayanagar',\n",
       " 'Richmond Town',\n",
       " 'UB City',\n",
       " 'Vasanth Nagar',\n",
       " 'Wilson Garden',\n",
       " 'Cunningham Road',\n",
       " 'Seshadripuram',\n",
       " 'BTM',\n",
       " 'Rajajinagar',\n",
       " 'Domlur',\n",
       " 'Majestic',\n",
       " 'Sadashiv Nagar',\n",
       " 'Old Madras Road',\n",
       " 'Hosur Road',\n",
       " 'Lido Mall',\n",
       " 'Ejipura',\n",
       " 'Langford Town',\n",
       " 'Forum Rex Walk',\n",
       " 'Building 105',\n",
       " 'RT Nagar',\n",
       " '1 Sobha',\n",
       " 'Jatti Building',\n",
       " 'Basaveshwara Nagar',\n",
       " 'Nexus',\n",
       " 'Race Course Road',\n",
       " 'Old Airport Road',\n",
       " 'Infantry Road',\n",
       " 'Prestige Trade Tower',\n",
       " 'Thippasandra',\n",
       " 'Banashankari',\n",
       " 'ITC Gardenia',\n",
       " 'Jeevan Bhima Nagar',\n",
       " 'Hotel Southern Star',\n",
       " 'Global Village',\n",
       " 'Nagawara',\n",
       " 'BluPetal Hotel',\n",
       " 'Mysore Road',\n",
       " 'Magadi Road',\n",
       " 'CV Raman Nagar',\n",
       " 'Vijay Nagar',\n",
       " 'Sigma Mall',\n",
       " 'Kammanahalli',\n",
       " 'Kalyan Nagar']"
      ]
     },
     "execution_count": 23,
     "metadata": {},
     "output_type": "execute_result"
    }
   ],
   "source": [
    "lst"
   ]
  },
  {
   "cell_type": "code",
   "execution_count": 26,
   "id": "da650054",
   "metadata": {},
   "outputs": [],
   "source": [
    "dict2 = {}\n",
    "for i in range(len(lst)):\n",
    "    dict2[i] = lst[i]  "
   ]
  },
  {
   "cell_type": "code",
   "execution_count": 27,
   "id": "32b4b268",
   "metadata": {},
   "outputs": [
    {
     "data": {
      "text/plain": [
       "{0: 'St. Marks Road',\n",
       " 1: 'Frazer Town',\n",
       " 2: 'Shivajinagar',\n",
       " 3: 'City Market',\n",
       " 4: 'Koramangala',\n",
       " 5: 'Church Street',\n",
       " 6: 'Lavelle Road',\n",
       " 7: 'Shanti Nagar',\n",
       " 8: 'Brigade Road',\n",
       " 9: 'MG Road',\n",
       " 10: 'Commercial Street',\n",
       " 11: 'Residency Road',\n",
       " 12: 'Basavanagudi',\n",
       " 13: 'Mantri Square',\n",
       " 14: 'Richmond Road',\n",
       " 15: 'Malleshwaram',\n",
       " 16: 'Indiranagar',\n",
       " 17: 'Ulsoor',\n",
       " 18: 'Garuda Mall',\n",
       " 19: 'Jayanagar',\n",
       " 20: 'Richmond Town',\n",
       " 21: 'UB City',\n",
       " 22: 'Vasanth Nagar',\n",
       " 23: 'Wilson Garden',\n",
       " 24: 'Cunningham Road',\n",
       " 25: 'Seshadripuram',\n",
       " 26: 'BTM',\n",
       " 27: 'Rajajinagar',\n",
       " 28: 'Domlur',\n",
       " 29: 'Majestic',\n",
       " 30: 'Sadashiv Nagar',\n",
       " 31: 'Old Madras Road',\n",
       " 32: 'Hosur Road',\n",
       " 33: 'Lido Mall',\n",
       " 34: 'Ejipura',\n",
       " 35: 'Langford Town',\n",
       " 36: 'Forum Rex Walk',\n",
       " 37: 'Building 105',\n",
       " 38: 'RT Nagar',\n",
       " 39: '1 Sobha',\n",
       " 40: 'Jatti Building',\n",
       " 41: 'Basaveshwara Nagar',\n",
       " 42: 'Nexus',\n",
       " 43: 'Race Course Road',\n",
       " 44: 'Old Airport Road',\n",
       " 45: 'Infantry Road',\n",
       " 46: 'Prestige Trade Tower',\n",
       " 47: 'Thippasandra',\n",
       " 48: 'Banashankari',\n",
       " 49: 'ITC Gardenia',\n",
       " 50: 'Jeevan Bhima Nagar',\n",
       " 51: 'Hotel Southern Star',\n",
       " 52: 'Global Village',\n",
       " 53: 'Nagawara',\n",
       " 54: 'BluPetal Hotel',\n",
       " 55: 'Mysore Road',\n",
       " 56: 'Magadi Road',\n",
       " 57: 'CV Raman Nagar',\n",
       " 58: 'Vijay Nagar',\n",
       " 59: 'Sigma Mall',\n",
       " 60: 'Kammanahalli',\n",
       " 61: 'Kalyan Nagar'}"
      ]
     },
     "execution_count": 27,
     "metadata": {},
     "output_type": "execute_result"
    }
   ],
   "source": [
    "dict2"
   ]
  },
  {
   "cell_type": "code",
   "execution_count": 28,
   "id": "dac45282",
   "metadata": {},
   "outputs": [],
   "source": [
    "df[\"Location\"] = df[\"Location\"].apply(lambda x: dict1[x])"
   ]
  },
  {
   "cell_type": "code",
   "execution_count": 29,
   "id": "f7238ef1",
   "metadata": {},
   "outputs": [
    {
     "data": {
      "text/plain": [
       "0       0\n",
       "1       1\n",
       "2       2\n",
       "3       0\n",
       "4       3\n",
       "       ..\n",
       "726    61\n",
       "727    15\n",
       "728    17\n",
       "729    19\n",
       "0      11\n",
       "Name: Location, Length: 731, dtype: int64"
      ]
     },
     "execution_count": 29,
     "metadata": {},
     "output_type": "execute_result"
    }
   ],
   "source": [
    "df[\"Location\"]"
   ]
  },
  {
   "cell_type": "code",
   "execution_count": 30,
   "id": "d056ddc8",
   "metadata": {},
   "outputs": [],
   "source": [
    "df = df[[\"Index\",\"Cuisine\",\"Location\",\"Price_For_One\"]]"
   ]
  },
  {
   "cell_type": "code",
   "execution_count": 31,
   "id": "bba992c5",
   "metadata": {},
   "outputs": [],
   "source": [
    "x = df.drop(\"Location\",axis = 1)\n",
    "y = df[\"Location\"]"
   ]
  },
  {
   "cell_type": "code",
   "execution_count": 32,
   "id": "786e8cde",
   "metadata": {},
   "outputs": [],
   "source": [
    "le = LabelEncoder()\n",
    "x[\"Cuisine\"] = le.fit_transform(x[\"Cuisine\"])"
   ]
  },
  {
   "cell_type": "code",
   "execution_count": 33,
   "id": "8b8ef247",
   "metadata": {},
   "outputs": [
    {
     "data": {
      "text/plain": [
       "0       8\n",
       "1       8\n",
       "2       8\n",
       "3       8\n",
       "4       5\n",
       "       ..\n",
       "726     7\n",
       "727    13\n",
       "728     0\n",
       "729    12\n",
       "0       7\n",
       "Name: Cuisine, Length: 731, dtype: int32"
      ]
     },
     "execution_count": 33,
     "metadata": {},
     "output_type": "execute_result"
    }
   ],
   "source": [
    "x[\"Cuisine\"]"
   ]
  },
  {
   "cell_type": "code",
   "execution_count": 34,
   "id": "3c248cba",
   "metadata": {},
   "outputs": [],
   "source": [
    "sc = MinMaxScaler()"
   ]
  },
  {
   "cell_type": "code",
   "execution_count": 35,
   "id": "7aea217f",
   "metadata": {},
   "outputs": [],
   "source": [
    "x[\"Index\"] = 0"
   ]
  },
  {
   "cell_type": "code",
   "execution_count": 36,
   "id": "86ba97e4",
   "metadata": {},
   "outputs": [],
   "source": [
    "x[[\"Index\",\"Cuisine\",\"Price_For_One\"]] = sc.fit_transform(x[[\"Index\",\"Cuisine\",\"Price_For_One\"]])"
   ]
  },
  {
   "cell_type": "code",
   "execution_count": 37,
   "id": "dc0f70b7",
   "metadata": {},
   "outputs": [
    {
     "data": {
      "text/html": [
       "<div>\n",
       "<style scoped>\n",
       "    .dataframe tbody tr th:only-of-type {\n",
       "        vertical-align: middle;\n",
       "    }\n",
       "\n",
       "    .dataframe tbody tr th {\n",
       "        vertical-align: top;\n",
       "    }\n",
       "\n",
       "    .dataframe thead th {\n",
       "        text-align: right;\n",
       "    }\n",
       "</style>\n",
       "<table border=\"1\" class=\"dataframe\">\n",
       "  <thead>\n",
       "    <tr style=\"text-align: right;\">\n",
       "      <th></th>\n",
       "      <th>Index</th>\n",
       "      <th>Cuisine</th>\n",
       "      <th>Price_For_One</th>\n",
       "    </tr>\n",
       "  </thead>\n",
       "  <tbody>\n",
       "    <tr>\n",
       "      <th>0</th>\n",
       "      <td>0.0</td>\n",
       "      <td>0.5000</td>\n",
       "      <td>0.3</td>\n",
       "    </tr>\n",
       "    <tr>\n",
       "      <th>1</th>\n",
       "      <td>0.0</td>\n",
       "      <td>0.5000</td>\n",
       "      <td>0.3</td>\n",
       "    </tr>\n",
       "    <tr>\n",
       "      <th>2</th>\n",
       "      <td>0.0</td>\n",
       "      <td>0.5000</td>\n",
       "      <td>0.3</td>\n",
       "    </tr>\n",
       "    <tr>\n",
       "      <th>3</th>\n",
       "      <td>0.0</td>\n",
       "      <td>0.5000</td>\n",
       "      <td>0.3</td>\n",
       "    </tr>\n",
       "    <tr>\n",
       "      <th>4</th>\n",
       "      <td>0.0</td>\n",
       "      <td>0.3125</td>\n",
       "      <td>0.3</td>\n",
       "    </tr>\n",
       "    <tr>\n",
       "      <th>...</th>\n",
       "      <td>...</td>\n",
       "      <td>...</td>\n",
       "      <td>...</td>\n",
       "    </tr>\n",
       "    <tr>\n",
       "      <th>726</th>\n",
       "      <td>0.0</td>\n",
       "      <td>0.4375</td>\n",
       "      <td>0.1</td>\n",
       "    </tr>\n",
       "    <tr>\n",
       "      <th>727</th>\n",
       "      <td>0.0</td>\n",
       "      <td>0.8125</td>\n",
       "      <td>0.1</td>\n",
       "    </tr>\n",
       "    <tr>\n",
       "      <th>728</th>\n",
       "      <td>0.0</td>\n",
       "      <td>0.0000</td>\n",
       "      <td>0.1</td>\n",
       "    </tr>\n",
       "    <tr>\n",
       "      <th>729</th>\n",
       "      <td>0.0</td>\n",
       "      <td>0.7500</td>\n",
       "      <td>0.1</td>\n",
       "    </tr>\n",
       "    <tr>\n",
       "      <th>0</th>\n",
       "      <td>0.0</td>\n",
       "      <td>0.4375</td>\n",
       "      <td>0.1</td>\n",
       "    </tr>\n",
       "  </tbody>\n",
       "</table>\n",
       "<p>731 rows × 3 columns</p>\n",
       "</div>"
      ],
      "text/plain": [
       "     Index  Cuisine  Price_For_One\n",
       "0      0.0   0.5000            0.3\n",
       "1      0.0   0.5000            0.3\n",
       "2      0.0   0.5000            0.3\n",
       "3      0.0   0.5000            0.3\n",
       "4      0.0   0.3125            0.3\n",
       "..     ...      ...            ...\n",
       "726    0.0   0.4375            0.1\n",
       "727    0.0   0.8125            0.1\n",
       "728    0.0   0.0000            0.1\n",
       "729    0.0   0.7500            0.1\n",
       "0      0.0   0.4375            0.1\n",
       "\n",
       "[731 rows x 3 columns]"
      ]
     },
     "execution_count": 37,
     "metadata": {},
     "output_type": "execute_result"
    }
   ],
   "source": [
    "x"
   ]
  },
  {
   "cell_type": "code",
   "execution_count": 16,
   "id": "a13c1216",
   "metadata": {},
   "outputs": [],
   "source": [
    "xtr,xts,ytr,yts = train_test_split(x,y,test_size = 0.3)"
   ]
  },
  {
   "cell_type": "code",
   "execution_count": 17,
   "id": "a2141b98",
   "metadata": {},
   "outputs": [],
   "source": [
    "model = DecisionTreeClassifier()"
   ]
  },
  {
   "cell_type": "code",
   "execution_count": 18,
   "id": "45ac79dc",
   "metadata": {},
   "outputs": [],
   "source": [
    "model.fit(xtr,ytr)\n",
    "\n",
    "ypred = model.predict(xts)"
   ]
  },
  {
   "cell_type": "code",
   "execution_count": 19,
   "id": "73afaf70",
   "metadata": {},
   "outputs": [
    {
     "data": {
      "text/plain": [
       "array([26,  4, 16,  4,  0,  4,  4,  0,  7,  4,  0,  4, 25, 15,  7, 16,  1,\n",
       "       16,  3,  4,  4, 16,  4,  0, 16,  4,  1,  4, 13, 16, 16,  4,  4,  4,\n",
       "       16,  1,  4,  4,  7, 16, 22, 16,  4, 25, 16,  3, 16, 17, 28,  4, 16,\n",
       "        4, 16,  4, 16,  4,  4,  7, 16, 27,  4,  4,  1,  4, 26,  7, 16, 16,\n",
       "        4,  4,  4,  4,  4, 26, 22,  1,  4,  1, 26,  4, 22, 16, 16, 16,  4,\n",
       "       27,  4, 16, 25, 16, 15,  3, 26,  4,  4, 16,  2,  4,  4,  0, 27,  4,\n",
       "        2, 16, 25,  2,  4, 16, 26,  1, 27, 25,  4, 16, 27,  1,  4,  7, 15,\n",
       "       12,  4,  8,  4,  1,  4,  1, 16,  7,  4, 15,  4, 25, 25,  4, 27, 16,\n",
       "       16,  4,  4,  4,  4,  4, 25, 26,  4, 22,  4, 17,  4,  4,  1,  4, 16,\n",
       "        2,  8, 27,  0,  4,  4,  4,  1, 16, 16, 16,  1,  1, 25,  7,  4,  1,\n",
       "        4,  2,  4,  1, 25,  4,  4, 16,  7, 16,  0,  4,  3, 22,  4, 12,  7,\n",
       "       26,  8,  4, 16,  1, 26, 16,  5,  7,  4, 16,  1,  4, 15, 22, 22, 16,\n",
       "        1,  7, 16,  7,  7, 17,  9, 16, 16,  4,  4,  4,  4, 16, 15,  0],\n",
       "      dtype=int64)"
      ]
     },
     "execution_count": 19,
     "metadata": {},
     "output_type": "execute_result"
    }
   ],
   "source": [
    "ypred"
   ]
  },
  {
   "cell_type": "code",
   "execution_count": 24,
   "id": "029b8d7f",
   "metadata": {},
   "outputs": [
    {
     "data": {
      "text/plain": [
       "'St. Marks Road'"
      ]
     },
     "execution_count": 24,
     "metadata": {},
     "output_type": "execute_result"
    }
   ],
   "source": [
    "dict2[ypred[-1]]"
   ]
  },
  {
   "cell_type": "code",
   "execution_count": 23,
   "id": "ff2604dd",
   "metadata": {},
   "outputs": [
    {
     "data": {
      "text/plain": [
       "0.7272727272727272"
      ]
     },
     "execution_count": 23,
     "metadata": {},
     "output_type": "execute_result"
    }
   ],
   "source": [
    "metrics.accuracy_score(ypred,yts)"
   ]
  },
  {
   "cell_type": "code",
   "execution_count": 22,
   "id": "6907980b",
   "metadata": {},
   "outputs": [],
   "source": [
    "pickle.dump(model,open('model.pkl',\"wb\"))"
   ]
  },
  {
   "cell_type": "code",
   "execution_count": null,
   "id": "de92b2e7",
   "metadata": {},
   "outputs": [],
   "source": []
  }
 ],
 "metadata": {
  "kernelspec": {
   "display_name": "Python 3 (ipykernel)",
   "language": "python",
   "name": "python3"
  },
  "language_info": {
   "codemirror_mode": {
    "name": "ipython",
    "version": 3
   },
   "file_extension": ".py",
   "mimetype": "text/x-python",
   "name": "python",
   "nbconvert_exporter": "python",
   "pygments_lexer": "ipython3",
   "version": "3.9.13"
  }
 },
 "nbformat": 4,
 "nbformat_minor": 5
}
