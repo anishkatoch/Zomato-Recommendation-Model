{
 "cells": [
  {
   "cell_type": "code",
   "execution_count": 4,
   "id": "2a834183",
   "metadata": {},
   "outputs": [],
   "source": [
    "import pandas as pd\n",
    "import numpy as np"
   ]
  },
  {
   "cell_type": "code",
   "execution_count": 14,
   "id": "f5310990",
   "metadata": {},
   "outputs": [],
   "source": [
    "df1=pd.read_excel('F:\\\\Masai\\\\Project Webpage\\\\Zomato Data.xlsx')"
   ]
  },
  {
   "cell_type": "code",
   "execution_count": 7,
   "id": "26374f41",
   "metadata": {},
   "outputs": [],
   "source": [
    "import pickle\n",
    "from sklearn.linear_model import LogisticRegression\n",
    "from sklearn.ensemble import RandomForestClassifier\n",
    "from sklearn.tree import DecisionTreeClassifier\n",
    "from sklearn.model_selection import train_test_split\n",
    "import warnings\n",
    "from sklearn.preprocessing import LabelEncoder\n",
    "from sklearn import metrics\n",
    "from sklearn.preprocessing import MinMaxScaler\n",
    "from sklearn import metrics\n",
    "from sklearn.linear_model import LinearRegression\n",
    "from sklearn.linear_model import LinearRegression\n",
    "from sklearn.metrics import mean_absolute_error, mean_squared_error, r2_score"
   ]
  },
  {
   "cell_type": "code",
   "execution_count": 38,
   "id": "796406cd",
   "metadata": {},
   "outputs": [
    {
     "data": {
      "text/html": [
       "<div>\n",
       "<style scoped>\n",
       "    .dataframe tbody tr th:only-of-type {\n",
       "        vertical-align: middle;\n",
       "    }\n",
       "\n",
       "    .dataframe tbody tr th {\n",
       "        vertical-align: top;\n",
       "    }\n",
       "\n",
       "    .dataframe thead th {\n",
       "        text-align: right;\n",
       "    }\n",
       "</style>\n",
       "<table border=\"1\" class=\"dataframe\">\n",
       "  <thead>\n",
       "    <tr style=\"text-align: right;\">\n",
       "      <th></th>\n",
       "      <th>Restaurant_Name</th>\n",
       "      <th>Rating</th>\n",
       "      <th>Price_For_One</th>\n",
       "      <th>Cuisine</th>\n",
       "      <th>Location</th>\n",
       "      <th>Delivery_Review_Number</th>\n",
       "      <th>Link</th>\n",
       "    </tr>\n",
       "  </thead>\n",
       "  <tbody>\n",
       "    <tr>\n",
       "      <th>0</th>\n",
       "      <td>Pizza Hut</td>\n",
       "      <td>4.1</td>\n",
       "      <td>200</td>\n",
       "      <td>Fast Food</td>\n",
       "      <td>St. Marks Road</td>\n",
       "      <td>539</td>\n",
       "      <td>https://www.zomato.com//bangalore/nandhini-del...</td>\n",
       "    </tr>\n",
       "    <tr>\n",
       "      <th>1</th>\n",
       "      <td>KFC</td>\n",
       "      <td>4.4</td>\n",
       "      <td>200</td>\n",
       "      <td>Fast Food</td>\n",
       "      <td>Frazer Town</td>\n",
       "      <td>574</td>\n",
       "      <td>https://www.zomato.com//bangalore/thoms-bakery...</td>\n",
       "    </tr>\n",
       "    <tr>\n",
       "      <th>2</th>\n",
       "      <td>McDonald's</td>\n",
       "      <td>4.1</td>\n",
       "      <td>200</td>\n",
       "      <td>Fast Food</td>\n",
       "      <td>Shivajinagar</td>\n",
       "      <td>5248</td>\n",
       "      <td>https://www.zomato.com//bangalore/empire-resta...</td>\n",
       "    </tr>\n",
       "    <tr>\n",
       "      <th>3</th>\n",
       "      <td>Burger King</td>\n",
       "      <td>4.2</td>\n",
       "      <td>200</td>\n",
       "      <td>Fast Food</td>\n",
       "      <td>St. Marks Road</td>\n",
       "      <td>1967</td>\n",
       "      <td>https://www.zomato.com//bangalore/truffles-2-s...</td>\n",
       "    </tr>\n",
       "    <tr>\n",
       "      <th>4</th>\n",
       "      <td>Meghana Foods</td>\n",
       "      <td>3.7</td>\n",
       "      <td>200</td>\n",
       "      <td>Biryani</td>\n",
       "      <td>City Market</td>\n",
       "      <td>17</td>\n",
       "      <td>https://www.zomato.com//bangalore/the-taj-hote...</td>\n",
       "    </tr>\n",
       "  </tbody>\n",
       "</table>\n",
       "</div>"
      ],
      "text/plain": [
       "  Restaurant_Name  Rating  Price_For_One    Cuisine        Location  \\\n",
       "0       Pizza Hut     4.1            200  Fast Food  St. Marks Road   \n",
       "1             KFC     4.4            200  Fast Food     Frazer Town   \n",
       "2      McDonald's     4.1            200  Fast Food    Shivajinagar   \n",
       "3     Burger King     4.2            200  Fast Food  St. Marks Road   \n",
       "4   Meghana Foods     3.7            200    Biryani     City Market   \n",
       "\n",
       "   Delivery_Review_Number                                               Link  \n",
       "0                     539  https://www.zomato.com//bangalore/nandhini-del...  \n",
       "1                     574  https://www.zomato.com//bangalore/thoms-bakery...  \n",
       "2                    5248  https://www.zomato.com//bangalore/empire-resta...  \n",
       "3                    1967  https://www.zomato.com//bangalore/truffles-2-s...  \n",
       "4                      17  https://www.zomato.com//bangalore/the-taj-hote...  "
      ]
     },
     "execution_count": 38,
     "metadata": {},
     "output_type": "execute_result"
    }
   ],
   "source": [
    "df1.head()"
   ]
  },
  {
   "cell_type": "code",
   "execution_count": 15,
   "id": "8064f302",
   "metadata": {},
   "outputs": [],
   "source": [
    "df=df1[['Location','Cuisine','Price_For_One']]"
   ]
  },
  {
   "cell_type": "code",
   "execution_count": 16,
   "id": "b9e2aece",
   "metadata": {},
   "outputs": [
    {
     "data": {
      "text/html": [
       "<div>\n",
       "<style scoped>\n",
       "    .dataframe tbody tr th:only-of-type {\n",
       "        vertical-align: middle;\n",
       "    }\n",
       "\n",
       "    .dataframe tbody tr th {\n",
       "        vertical-align: top;\n",
       "    }\n",
       "\n",
       "    .dataframe thead th {\n",
       "        text-align: right;\n",
       "    }\n",
       "</style>\n",
       "<table border=\"1\" class=\"dataframe\">\n",
       "  <thead>\n",
       "    <tr style=\"text-align: right;\">\n",
       "      <th></th>\n",
       "      <th>Location</th>\n",
       "      <th>Cuisine</th>\n",
       "      <th>Price_For_One</th>\n",
       "    </tr>\n",
       "  </thead>\n",
       "  <tbody>\n",
       "    <tr>\n",
       "      <th>0</th>\n",
       "      <td>St. Marks Road</td>\n",
       "      <td>Fast Food</td>\n",
       "      <td>200</td>\n",
       "    </tr>\n",
       "    <tr>\n",
       "      <th>1</th>\n",
       "      <td>Frazer Town</td>\n",
       "      <td>Fast Food</td>\n",
       "      <td>200</td>\n",
       "    </tr>\n",
       "    <tr>\n",
       "      <th>2</th>\n",
       "      <td>Shivajinagar</td>\n",
       "      <td>Fast Food</td>\n",
       "      <td>200</td>\n",
       "    </tr>\n",
       "    <tr>\n",
       "      <th>3</th>\n",
       "      <td>St. Marks Road</td>\n",
       "      <td>Fast Food</td>\n",
       "      <td>200</td>\n",
       "    </tr>\n",
       "    <tr>\n",
       "      <th>4</th>\n",
       "      <td>City Market</td>\n",
       "      <td>Biryani</td>\n",
       "      <td>200</td>\n",
       "    </tr>\n",
       "    <tr>\n",
       "      <th>...</th>\n",
       "      <td>...</td>\n",
       "      <td>...</td>\n",
       "      <td>...</td>\n",
       "    </tr>\n",
       "    <tr>\n",
       "      <th>725</th>\n",
       "      <td>Richmond Road</td>\n",
       "      <td>Chinese</td>\n",
       "      <td>100</td>\n",
       "    </tr>\n",
       "    <tr>\n",
       "      <th>726</th>\n",
       "      <td>Kalyan Nagar</td>\n",
       "      <td>Desserts</td>\n",
       "      <td>100</td>\n",
       "    </tr>\n",
       "    <tr>\n",
       "      <th>727</th>\n",
       "      <td>Malleshwaram</td>\n",
       "      <td>South Indian</td>\n",
       "      <td>100</td>\n",
       "    </tr>\n",
       "    <tr>\n",
       "      <th>728</th>\n",
       "      <td>Ulsoor</td>\n",
       "      <td>Andhra</td>\n",
       "      <td>100</td>\n",
       "    </tr>\n",
       "    <tr>\n",
       "      <th>729</th>\n",
       "      <td>Jayanagar</td>\n",
       "      <td>North Indian</td>\n",
       "      <td>100</td>\n",
       "    </tr>\n",
       "  </tbody>\n",
       "</table>\n",
       "<p>730 rows × 3 columns</p>\n",
       "</div>"
      ],
      "text/plain": [
       "           Location       Cuisine  Price_For_One\n",
       "0    St. Marks Road     Fast Food            200\n",
       "1       Frazer Town     Fast Food            200\n",
       "2      Shivajinagar     Fast Food            200\n",
       "3    St. Marks Road     Fast Food            200\n",
       "4       City Market       Biryani            200\n",
       "..              ...           ...            ...\n",
       "725   Richmond Road       Chinese            100\n",
       "726    Kalyan Nagar      Desserts            100\n",
       "727    Malleshwaram  South Indian            100\n",
       "728          Ulsoor        Andhra            100\n",
       "729       Jayanagar  North Indian            100\n",
       "\n",
       "[730 rows x 3 columns]"
      ]
     },
     "execution_count": 16,
     "metadata": {},
     "output_type": "execute_result"
    }
   ],
   "source": [
    "df"
   ]
  },
  {
   "cell_type": "code",
   "execution_count": 39,
   "id": "014079bd",
   "metadata": {},
   "outputs": [
    {
     "name": "stdout",
     "output_type": "stream",
     "text": [
      "['1 Sobha', 'BTM', 'Banashankari', 'Basavanagudi', 'Basaveshwara Nagar', 'BluPetal Hotel', 'Brigade Road', 'Building 105', 'CV Raman Nagar', 'Church Street', 'City Market', 'Commercial Street', 'Cunningham Road', 'Domlur', 'Ejipura', 'Forum Rex Walk', 'Frazer Town', 'Garuda Mall', 'Global Village', 'Hosur Road', 'Hotel Southern Star', 'ITC Gardenia', 'Indiranagar', 'Infantry Road', 'Jatti Building', 'Jayanagar', 'Jeevan Bhima Nagar', 'Kalyan Nagar', 'Kammanahalli', 'Koramangala', 'Langford Town', 'Lavelle Road', 'Lido Mall', 'MG Road', 'Magadi Road', 'Majestic', 'Malleshwaram', 'Mantri Square', 'Mysore Road', 'Nagawara', 'Nexus', 'Old Airport Road', 'Old Madras Road', 'Prestige Trade Tower', 'RT Nagar', 'Race Course Road', 'Rajajinagar', 'Residency Road', 'Richmond Road', 'Richmond Town', 'Sadashiv Nagar', 'Seshadripuram', 'Shanti Nagar', 'Shivajinagar', 'Sigma Mall', 'St. Marks Road', 'Thippasandra', 'UB City', 'Ulsoor', 'Vasanth Nagar', 'Vijay Nagar', 'Wilson Garden']\n"
     ]
    }
   ],
   "source": [
    "loc = ['St. Marks Road', 'Frazer Town', 'Shivajinagar', 'City Market', 'Koramangala', 'Church Street', 'Lavelle Road', 'Shanti Nagar', 'Brigade Road', 'MG Road', 'Commercial Street', 'Residency Road', 'Basavanagudi', 'Mantri Square', 'Richmond Road', 'Malleshwaram', 'Indiranagar', 'Ulsoor', 'Garuda Mall', 'Jayanagar', 'Richmond Town', 'UB City', 'Vasanth Nagar', 'Wilson Garden', 'Cunningham Road', 'Seshadripuram', 'BTM', 'Rajajinagar', 'Domlur', 'Majestic', 'Sadashiv Nagar', 'Old Madras Road', 'Hosur Road', 'Lido Mall', 'Ejipura', 'Langford Town', 'Forum Rex Walk', 'Building 105', 'RT Nagar', '1 Sobha', 'Jatti Building', 'Basaveshwara Nagar', 'Nexus', 'Race Course Road', 'Old Airport Road', 'Infantry Road', 'Prestige Trade Tower', 'Thippasandra', 'Banashankari', 'ITC Gardenia', 'Jeevan Bhima Nagar', 'Hotel Southern Star', 'Global Village', 'Nagawara', 'BluPetal Hotel', 'Mysore Road', 'Magadi Road', 'CV Raman Nagar', 'Vijay Nagar', 'Sigma Mall', 'Kammanahalli', 'Kalyan Nagar']\n",
    "locate= sorted(loc)\n",
    "print(locate)"
   ]
  },
  {
   "cell_type": "code",
   "execution_count": 40,
   "id": "6b6b37bb",
   "metadata": {},
   "outputs": [
    {
     "name": "stdout",
     "output_type": "stream",
     "text": [
      "['Andhra', 'Arabian', 'Asian', 'Bengali', 'Beverages', 'Biryani', 'Chinese', 'Desserts', 'Fast Food', 'Italian', 'Kerala', 'Mexican', 'North Indian', 'South Indian', 'Street Food', 'Sweets', 'Tibetan']\n"
     ]
    }
   ],
   "source": [
    "food=['Fast Food', 'Biryani', 'Sweets', 'Desserts', 'Bengali','South Indian', 'Italian', 'Arabian', 'Mexican', 'North Indian','Street Food', 'Beverages', 'Kerala', 'Andhra', 'Chinese', 'Asian','Tibetan']\n",
    "cus = sorted(food)\n",
    "print(cus)"
   ]
  },
  {
   "cell_type": "code",
   "execution_count": 41,
   "id": "d5f52bf9",
   "metadata": {},
   "outputs": [],
   "source": [
    "dict1 = {}\n",
    "for i in range(len(locate)):\n",
    "    dict1[locate[i]] = i "
   ]
  },
  {
   "cell_type": "code",
   "execution_count": 42,
   "id": "daf0526c",
   "metadata": {},
   "outputs": [],
   "source": [
    "dict2 = {}\n",
    "for i in range(len(cus)):\n",
    "    dict2[cus[i]] = i"
   ]
  },
  {
   "cell_type": "code",
   "execution_count": 43,
   "id": "d0f5a0f6",
   "metadata": {},
   "outputs": [
    {
     "name": "stderr",
     "output_type": "stream",
     "text": [
      "C:\\Users\\ANEESH\\AppData\\Local\\Temp\\ipykernel_7672\\4053790531.py:2: SettingWithCopyWarning: \n",
      "A value is trying to be set on a copy of a slice from a DataFrame.\n",
      "Try using .loc[row_indexer,col_indexer] = value instead\n",
      "\n",
      "See the caveats in the documentation: https://pandas.pydata.org/pandas-docs/stable/user_guide/indexing.html#returning-a-view-versus-a-copy\n",
      "  df['Cuisine']=lc.fit_transform(df['Cuisine'])\n",
      "C:\\Users\\ANEESH\\AppData\\Local\\Temp\\ipykernel_7672\\4053790531.py:3: SettingWithCopyWarning: \n",
      "A value is trying to be set on a copy of a slice from a DataFrame.\n",
      "Try using .loc[row_indexer,col_indexer] = value instead\n",
      "\n",
      "See the caveats in the documentation: https://pandas.pydata.org/pandas-docs/stable/user_guide/indexing.html#returning-a-view-versus-a-copy\n",
      "  df['Location']=lc.fit_transform(df['Location'])\n"
     ]
    }
   ],
   "source": [
    "lc = LabelEncoder()\n",
    "df['Cuisine']=lc.fit_transform(df['Cuisine'])\n",
    "df['Location']=lc.fit_transform(df['Location'])"
   ]
  },
  {
   "cell_type": "code",
   "execution_count": 45,
   "id": "26dbd7c7",
   "metadata": {},
   "outputs": [],
   "source": [
    "f1=dict2['Fast Food']\n",
    "l1=dict1['Koramangala']"
   ]
  },
  {
   "cell_type": "code",
   "execution_count": 48,
   "id": "61db9b72",
   "metadata": {},
   "outputs": [
    {
     "data": {
      "text/plain": [
       "8"
      ]
     },
     "execution_count": 48,
     "metadata": {},
     "output_type": "execute_result"
    }
   ],
   "source": [
    "f1"
   ]
  },
  {
   "cell_type": "code",
   "execution_count": 49,
   "id": "3e880400",
   "metadata": {},
   "outputs": [
    {
     "data": {
      "text/plain": [
       "29"
      ]
     },
     "execution_count": 49,
     "metadata": {},
     "output_type": "execute_result"
    }
   ],
   "source": [
    "l1"
   ]
  },
  {
   "cell_type": "code",
   "execution_count": 69,
   "id": "31736646",
   "metadata": {},
   "outputs": [
    {
     "data": {
      "text/plain": [
       "201"
      ]
     },
     "execution_count": 69,
     "metadata": {},
     "output_type": "execute_result"
    }
   ],
   "source": [
    "df1_new=df[(df['Cuisine']==f1) | (df['Location']==l1)]\n",
    "len(df1_new)"
   ]
  },
  {
   "cell_type": "code",
   "execution_count": 51,
   "id": "2f2706eb",
   "metadata": {},
   "outputs": [],
   "source": [
    "x=df1_new.drop(['Price_For_One'],axis=1)\n",
    "y=df1_new['Price_For_One']"
   ]
  },
  {
   "cell_type": "code",
   "execution_count": 194,
   "id": "c61390af",
   "metadata": {},
   "outputs": [
    {
     "data": {
      "text/html": [
       "<style>#sk-container-id-14 {color: black;background-color: white;}#sk-container-id-14 pre{padding: 0;}#sk-container-id-14 div.sk-toggleable {background-color: white;}#sk-container-id-14 label.sk-toggleable__label {cursor: pointer;display: block;width: 100%;margin-bottom: 0;padding: 0.3em;box-sizing: border-box;text-align: center;}#sk-container-id-14 label.sk-toggleable__label-arrow:before {content: \"▸\";float: left;margin-right: 0.25em;color: #696969;}#sk-container-id-14 label.sk-toggleable__label-arrow:hover:before {color: black;}#sk-container-id-14 div.sk-estimator:hover label.sk-toggleable__label-arrow:before {color: black;}#sk-container-id-14 div.sk-toggleable__content {max-height: 0;max-width: 0;overflow: hidden;text-align: left;background-color: #f0f8ff;}#sk-container-id-14 div.sk-toggleable__content pre {margin: 0.2em;color: black;border-radius: 0.25em;background-color: #f0f8ff;}#sk-container-id-14 input.sk-toggleable__control:checked~div.sk-toggleable__content {max-height: 200px;max-width: 100%;overflow: auto;}#sk-container-id-14 input.sk-toggleable__control:checked~label.sk-toggleable__label-arrow:before {content: \"▾\";}#sk-container-id-14 div.sk-estimator input.sk-toggleable__control:checked~label.sk-toggleable__label {background-color: #d4ebff;}#sk-container-id-14 div.sk-label input.sk-toggleable__control:checked~label.sk-toggleable__label {background-color: #d4ebff;}#sk-container-id-14 input.sk-hidden--visually {border: 0;clip: rect(1px 1px 1px 1px);clip: rect(1px, 1px, 1px, 1px);height: 1px;margin: -1px;overflow: hidden;padding: 0;position: absolute;width: 1px;}#sk-container-id-14 div.sk-estimator {font-family: monospace;background-color: #f0f8ff;border: 1px dotted black;border-radius: 0.25em;box-sizing: border-box;margin-bottom: 0.5em;}#sk-container-id-14 div.sk-estimator:hover {background-color: #d4ebff;}#sk-container-id-14 div.sk-parallel-item::after {content: \"\";width: 100%;border-bottom: 1px solid gray;flex-grow: 1;}#sk-container-id-14 div.sk-label:hover label.sk-toggleable__label {background-color: #d4ebff;}#sk-container-id-14 div.sk-serial::before {content: \"\";position: absolute;border-left: 1px solid gray;box-sizing: border-box;top: 0;bottom: 0;left: 50%;z-index: 0;}#sk-container-id-14 div.sk-serial {display: flex;flex-direction: column;align-items: center;background-color: white;padding-right: 0.2em;padding-left: 0.2em;position: relative;}#sk-container-id-14 div.sk-item {position: relative;z-index: 1;}#sk-container-id-14 div.sk-parallel {display: flex;align-items: stretch;justify-content: center;background-color: white;position: relative;}#sk-container-id-14 div.sk-item::before, #sk-container-id-14 div.sk-parallel-item::before {content: \"\";position: absolute;border-left: 1px solid gray;box-sizing: border-box;top: 0;bottom: 0;left: 50%;z-index: -1;}#sk-container-id-14 div.sk-parallel-item {display: flex;flex-direction: column;z-index: 1;position: relative;background-color: white;}#sk-container-id-14 div.sk-parallel-item:first-child::after {align-self: flex-end;width: 50%;}#sk-container-id-14 div.sk-parallel-item:last-child::after {align-self: flex-start;width: 50%;}#sk-container-id-14 div.sk-parallel-item:only-child::after {width: 0;}#sk-container-id-14 div.sk-dashed-wrapped {border: 1px dashed gray;margin: 0 0.4em 0.5em 0.4em;box-sizing: border-box;padding-bottom: 0.4em;background-color: white;}#sk-container-id-14 div.sk-label label {font-family: monospace;font-weight: bold;display: inline-block;line-height: 1.2em;}#sk-container-id-14 div.sk-label-container {text-align: center;}#sk-container-id-14 div.sk-container {/* jupyter's `normalize.less` sets `[hidden] { display: none; }` but bootstrap.min.css set `[hidden] { display: none !important; }` so we also need the `!important` here to be able to override the default hidden behavior on the sphinx rendered scikit-learn.org. See: https://github.com/scikit-learn/scikit-learn/issues/21755 */display: inline-block !important;position: relative;}#sk-container-id-14 div.sk-text-repr-fallback {display: none;}</style><div id=\"sk-container-id-14\" class=\"sk-top-container\"><div class=\"sk-text-repr-fallback\"><pre>LinearRegression()</pre><b>In a Jupyter environment, please rerun this cell to show the HTML representation or trust the notebook. <br />On GitHub, the HTML representation is unable to render, please try loading this page with nbviewer.org.</b></div><div class=\"sk-container\" hidden><div class=\"sk-item\"><div class=\"sk-estimator sk-toggleable\"><input class=\"sk-toggleable__control sk-hidden--visually\" id=\"sk-estimator-id-14\" type=\"checkbox\" checked><label for=\"sk-estimator-id-14\" class=\"sk-toggleable__label sk-toggleable__label-arrow\">LinearRegression</label><div class=\"sk-toggleable__content\"><pre>LinearRegression()</pre></div></div></div></div></div>"
      ],
      "text/plain": [
       "LinearRegression()"
      ]
     },
     "execution_count": 194,
     "metadata": {},
     "output_type": "execute_result"
    }
   ],
   "source": [
    "lr=LinearRegression()\n",
    "x_train,x_test,y_train,y_test=train_test_split(x,y,test_size=0.30,random_state=100)\n",
    "lr.fit(x_train,y_train)"
   ]
  },
  {
   "cell_type": "code",
   "execution_count": 195,
   "id": "ffacaa2f",
   "metadata": {},
   "outputs": [],
   "source": [
    "y_pred=lr.predict(x_test)"
   ]
  },
  {
   "cell_type": "code",
   "execution_count": 209,
   "id": "42c3bb9d",
   "metadata": {},
   "outputs": [
    {
     "data": {
      "text/plain": [
       "187.36734716532814"
      ]
     },
     "execution_count": 209,
     "metadata": {},
     "output_type": "execute_result"
    }
   ],
   "source": [
    "y_pred.mean()"
   ]
  },
  {
   "cell_type": "code",
   "execution_count": 204,
   "id": "dc0d61d5",
   "metadata": {},
   "outputs": [],
   "source": [
    "y_pred1=lr.predict(x_train)"
   ]
  },
  {
   "cell_type": "code",
   "execution_count": 210,
   "id": "1f25693b",
   "metadata": {},
   "outputs": [
    {
     "data": {
      "text/plain": [
       "186.42857142857142"
      ]
     },
     "execution_count": 210,
     "metadata": {},
     "output_type": "execute_result"
    }
   ],
   "source": [
    "y_pred1.mean()"
   ]
  },
  {
   "cell_type": "code",
   "execution_count": 205,
   "id": "d8acc679",
   "metadata": {},
   "outputs": [
    {
     "data": {
      "text/plain": [
       "99.346372759722"
      ]
     },
     "execution_count": 205,
     "metadata": {},
     "output_type": "execute_result"
    }
   ],
   "source": [
    "mae = mean_absolute_error(y_train, y_pred1)\n",
    "mse = mean_squared_error(y_train, y_pred1)\n",
    "rmse = np.sqrt(mse)\n",
    "mae\n",
    "mse\n",
    "rmse"
   ]
  },
  {
   "cell_type": "code",
   "execution_count": 206,
   "id": "ecd411d6",
   "metadata": {},
   "outputs": [
    {
     "data": {
      "text/plain": [
       "71.83103820381542"
      ]
     },
     "execution_count": 206,
     "metadata": {},
     "output_type": "execute_result"
    }
   ],
   "source": [
    "mae"
   ]
  },
  {
   "cell_type": "code",
   "execution_count": 207,
   "id": "808b424a",
   "metadata": {},
   "outputs": [
    {
     "data": {
      "text/plain": [
       "9869.701780513635"
      ]
     },
     "execution_count": 207,
     "metadata": {},
     "output_type": "execute_result"
    }
   ],
   "source": [
    "mse"
   ]
  },
  {
   "cell_type": "code",
   "execution_count": 208,
   "id": "30ae3d2c",
   "metadata": {},
   "outputs": [
    {
     "data": {
      "text/plain": [
       "99.346372759722"
      ]
     },
     "execution_count": 208,
     "metadata": {},
     "output_type": "execute_result"
    }
   ],
   "source": [
    "rmse"
   ]
  },
  {
   "cell_type": "code",
   "execution_count": 200,
   "id": "456980b9",
   "metadata": {},
   "outputs": [],
   "source": [
    "mae = mean_absolute_error(y_test, y_pred)\n",
    "mse = mean_squared_error(y_test, y_pred)\n",
    "rmse = np.sqrt(mse)"
   ]
  },
  {
   "cell_type": "code",
   "execution_count": 201,
   "id": "be1d461d",
   "metadata": {},
   "outputs": [
    {
     "data": {
      "text/plain": [
       "64.42034646705888"
      ]
     },
     "execution_count": 201,
     "metadata": {},
     "output_type": "execute_result"
    }
   ],
   "source": [
    "mae"
   ]
  },
  {
   "cell_type": "code",
   "execution_count": 202,
   "id": "6599611e",
   "metadata": {},
   "outputs": [
    {
     "data": {
      "text/plain": [
       "6790.709674528386"
      ]
     },
     "execution_count": 202,
     "metadata": {},
     "output_type": "execute_result"
    }
   ],
   "source": [
    "mse"
   ]
  },
  {
   "cell_type": "code",
   "execution_count": 203,
   "id": "e44679a5",
   "metadata": {},
   "outputs": [
    {
     "data": {
      "text/plain": [
       "82.40576238667042"
      ]
     },
     "execution_count": 203,
     "metadata": {},
     "output_type": "execute_result"
    }
   ],
   "source": [
    "rmse"
   ]
  },
  {
   "cell_type": "code",
   "execution_count": 149,
   "id": "c8109a9a",
   "metadata": {},
   "outputs": [],
   "source": [
    "from sklearn.ensemble import RandomForestClassifier"
   ]
  },
  {
   "cell_type": "code",
   "execution_count": null,
   "id": "2e4fac51",
   "metadata": {},
   "outputs": [],
   "source": [
    "loc = ['St. Marks Road', 'Frazer Town', 'Shivajinagar', 'City Market', 'Koramangala', 'Church Street', 'Lavelle Road', 'Shanti Nagar', 'Brigade Road', 'MG Road', 'Commercial Street', 'Residency Road', 'Basavanagudi', 'Mantri Square', 'Richmond Road', 'Malleshwaram', 'Indiranagar', 'Ulsoor', 'Garuda Mall', 'Jayanagar', 'Richmond Town', 'UB City', 'Vasanth Nagar', 'Wilson Garden', 'Cunningham Road', 'Seshadripuram', 'BTM', 'Rajajinagar', 'Domlur', 'Majestic', 'Sadashiv Nagar', 'Old Madras Road', 'Hosur Road', 'Lido Mall', 'Ejipura', 'Langford Town', 'Forum Rex Walk', 'Building 105', 'RT Nagar', '1 Sobha', 'Jatti Building', 'Basaveshwara Nagar', 'Nexus', 'Race Course Road', 'Old Airport Road', 'Infantry Road', 'Prestige Trade Tower', 'Thippasandra', 'Banashankari', 'ITC Gardenia', 'Jeevan Bhima Nagar', 'Hotel Southern Star', 'Global Village', 'Nagawara', 'BluPetal Hotel', 'Mysore Road', 'Magadi Road', 'CV Raman Nagar', 'Vijay Nagar', 'Sigma Mall', 'Kammanahalli', 'Kalyan Nagar']\n",
    "locate= sorted(loc)\n",
    "print(locate)\n",
    "\n",
    "food=['Fast Food', 'Biryani', 'Sweets', 'Desserts', 'Bengali','South Indian', 'Italian', 'Arabian', 'Mexican', 'North Indian','Street Food', 'Beverages', 'Kerala', 'Andhra', 'Chinese', 'Asian','Tibetan']\n",
    "cus = sorted(food)\n",
    "print(cus)\n",
    "\n",
    "dict1 = {}\n",
    "for i in range(len(locate)):\n",
    "    dict1[locate[i]] = i \n",
    "\n",
    "dict2 = {}\n",
    "for i in range(len(cus)):\n",
    "    dict2[cus[i]] = i\n",
    "\n",
    "lc = LabelEncoder()\n",
    "df1['Cuisine']=lc.fit_transform(df1['Cuisine'])\n",
    "df1['Location']=lc.fit_transform(df1['Location'])\n",
    "\n",
    "f1=dict2[Cuisine]\n",
    "l1=dict1[Location]\n",
    "\n",
    "df1_new=df1[(df1['Cuisine']==f1) | (df1['Location']==l1)]\n",
    "print(df1_new)\n",
    "\n",
    "x=df1_new.drop(['Price_For_One'],axis=1)\n",
    "y=df1_new['Price_For_One']\n",
    "\n",
    "lr=LinearRegression()\n",
    "x_train,x_test,y_train,y_test=train_test_split(x,y,test_size=0.30,random_state=10)\n",
    "lr.fit(x_train,y_train)\n",
    "\n",
    "return metrics.r2_score(y_train,y_pred)"
   ]
  }
 ],
 "metadata": {
  "kernelspec": {
   "display_name": "Python 3 (ipykernel)",
   "language": "python",
   "name": "python3"
  },
  "language_info": {
   "codemirror_mode": {
    "name": "ipython",
    "version": 3
   },
   "file_extension": ".py",
   "mimetype": "text/x-python",
   "name": "python",
   "nbconvert_exporter": "python",
   "pygments_lexer": "ipython3",
   "version": "3.11.1"
  }
 },
 "nbformat": 4,
 "nbformat_minor": 5
}
